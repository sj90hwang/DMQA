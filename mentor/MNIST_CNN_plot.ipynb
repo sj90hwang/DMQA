{
 "cells": [
  {
   "cell_type": "code",
   "execution_count": 16,
   "metadata": {},
   "outputs": [],
   "source": [
    "import numpy as np\n",
    "import torch\n",
    "import torch.nn as nn\n",
    "import torchvision.datasets as dsets\n",
    "import torchvision.transforms as transforms\n",
    "import random\n",
    "\n",
    "\n",
    "import torch.nn.init\n",
    "import matplotlib.pyplot as plt\n",
    "%matplotlib inline"
   ]
  },
  {
   "cell_type": "code",
   "execution_count": 17,
   "metadata": {},
   "outputs": [],
   "source": [
    "device = 'cuda' if torch.cuda.is_available else 'cpu'\n",
    "\n",
    "torch.manual_seed(777)   #random value를 잡아주는? 항상 같은 random이 나오는 걸로 설명은 되어있으나 완벽하게 이해 못함 질문1\n",
    "if device == 'cuda' : \n",
    "    torch.cuda.manual_seed_all(777)"
   ]
  },
  {
   "cell_type": "code",
   "execution_count": 18,
   "metadata": {},
   "outputs": [],
   "source": [
    "from six.moves import urllib\n",
    "opener = urllib.request.build_opener()\n",
    "opener.addheaders = [('User-agent', 'Mozilla/5.0')]\n",
    "urllib.request.install_opener(opener)\n",
    "\n",
    "# data 다운 되게 만드는 보안 헤더 코드???? 질문2"
   ]
  },
  {
   "cell_type": "code",
   "execution_count": 19,
   "metadata": {},
   "outputs": [],
   "source": [
    "# MNIST dataset\n",
    "mnist_train = dsets.MNIST(root='MNIST_data/',\n",
    "                          train=True,\n",
    "                          transform=transforms.ToTensor(),\n",
    "                          download=True)\n",
    "\n",
    "mnist_test = dsets.MNIST(root='MNIST_data/',\n",
    "                         train=False,\n",
    "                         transform=transforms.ToTensor(),\n",
    "                         download=True)"
   ]
  },
  {
   "cell_type": "code",
   "execution_count": 20,
   "metadata": {},
   "outputs": [],
   "source": [
    "#parameters 정의해둠 > data loader에 써야되니까 batch size등\n",
    "learning_rate = 0.001\n",
    "training_epochs =15\n",
    "batch_size = 100"
   ]
  },
  {
   "cell_type": "code",
   "execution_count": 21,
   "metadata": {},
   "outputs": [],
   "source": [
    "data_loader = torch.utils.data.DataLoader(dataset =mnist_train,\n",
    "                                         batch_size = batch_size,\n",
    "                                          shuffle = True,\n",
    "                                          drop_last = True)"
   ]
  },
  {
   "cell_type": "code",
   "execution_count": 22,
   "metadata": {},
   "outputs": [],
   "source": [
    "class CNN(nn.Module) :\n",
    "    \n",
    "    def __init__(self) :\n",
    "        super(CNN, self).__init__()\n",
    "        self.layer1 = nn.Sequential(\n",
    "            nn.Conv2d(1,32,kernel_size=3,stride=1,padding=1),\n",
    "            nn.ReLU(),\n",
    "            nn.MaxPool2d(2)\n",
    "        )\n",
    "        \n",
    "        self.layer2 = nn.Sequential(\n",
    "            nn.Conv2d(32,64,kernel_size=3,stride=1,padding=1),\n",
    "            nn.ReLU(),\n",
    "            nn.MaxPool2d(2)\n",
    "        )\n",
    "        \n",
    "        # fully connected layer\n",
    "        self.fc = nn.Linear(7*7*64,10,bias=True)\n",
    "        torch.nn.init.xavier_uniform_(self.fc.weight) #초기화진행\n",
    "        \n",
    "    def forward(self, x):\n",
    "        out = self.layer1(x)\n",
    "        out = self.layer2(out)\n",
    "        \n",
    "        out = out.view(out.size(0),-1)\n",
    "        out = self.fc(out)\n",
    "        return out"
   ]
  },
  {
   "cell_type": "code",
   "execution_count": 23,
   "metadata": {},
   "outputs": [],
   "source": [
    "model = CNN().to(device)"
   ]
  },
  {
   "cell_type": "code",
   "execution_count": 24,
   "metadata": {},
   "outputs": [],
   "source": [
    "criterion = nn.CrossEntropyLoss().to(device)\n",
    "optimizer = torch.optim.Adam(model.parameters(), lr = learning_rate)"
   ]
  },
  {
   "cell_type": "code",
   "execution_count": 25,
   "metadata": {},
   "outputs": [
    {
     "name": "stdout",
     "output_type": "stream",
     "text": [
      "[Epoch:1] cost = 0.22393102943897247\n",
      "Accuracy :  0.9591999650001526\n",
      "[Epoch:2] cost = 0.06218036636710167\n",
      "Accuracy :  0.9750999808311462\n",
      "[Epoch:3] cost = 0.04491035267710686\n",
      "Accuracy :  0.976699948310852\n",
      "[Epoch:4] cost = 0.035423073917627335\n",
      "Accuracy :  0.9830999970436096\n",
      "[Epoch:5] cost = 0.02900533936917782\n",
      "Accuracy :  0.9853999614715576\n",
      "[Epoch:6] cost = 0.024785390123724937\n",
      "Accuracy :  0.9805999994277954\n",
      "[Epoch:7] cost = 0.020776621997356415\n",
      "Accuracy :  0.977899968624115\n",
      "[Epoch:8] cost = 0.018033316358923912\n",
      "Accuracy :  0.9866999983787537\n",
      "[Epoch:9] cost = 0.015019230544567108\n",
      "Accuracy :  0.9817999601364136\n",
      "[Epoch:10] cost = 0.012545665726065636\n",
      "Accuracy :  0.9871999621391296\n",
      "[Epoch:11] cost = 0.010405885055661201\n",
      "Accuracy :  0.9866999983787537\n",
      "[Epoch:12] cost = 0.009895054623484612\n",
      "Accuracy :  0.9840999841690063\n",
      "[Epoch:13] cost = 0.00852569006383419\n",
      "Accuracy :  0.9842000007629395\n",
      "[Epoch:14] cost = 0.006999878212809563\n",
      "Accuracy :  0.9842999577522278\n",
      "[Epoch:15] cost = 0.006314130965620279\n",
      "Accuracy :  0.9866999983787537\n",
      "Finished\n"
     ]
    }
   ],
   "source": [
    "#training\n",
    "total_batch = len(data_loader)\n",
    "list_epoch = []\n",
    "list_train_loss = []\n",
    "list_train_accuracy = []\n",
    "\n",
    "for epoch in range(training_epochs) :\n",
    "    avg_cost = 0\n",
    "    \n",
    "    for X, Y in data_loader :\n",
    "        X = X.to(device)\n",
    "        Y = Y.to(device)\n",
    "        \n",
    "        optimizer.zero_grad()\n",
    "        hypothesis = model(X)\n",
    "        \n",
    "        cost = criterion(hypothesis, Y)\n",
    "        cost.backward()\n",
    "        optimizer.step()\n",
    "        avg_cost += cost/total_batch \n",
    "        \n",
    "    list_epoch.append(epoch)\n",
    "    list_train_loss.append(cost/total_batch)\n",
    "              \n",
    "    print('[Epoch:{}] cost = {}'.format(epoch+1, avg_cost))\n",
    "    \n",
    "    with torch.no_grad():    #학습안할꺼니까 선언\n",
    "        X_test = mnist_test.test_data.view(len(mnist_test),1,28,28).float().to(device)\n",
    "        Y_test = mnist_test.test_labels.to(device)\n",
    "    \n",
    "        prediction = model(X_test)\n",
    "        correct_prediction = torch.argmax(prediction, 1) == Y_test\n",
    "        accuracy = correct_prediction.float().mean()\n",
    "        \n",
    "    list_train_accuracy.append(accuracy.item())\n",
    "    \n",
    "    print('Accuracy : ',accuracy.item())\n",
    "    \n",
    "print('Finished')"
   ]
  },
  {
   "cell_type": "code",
   "execution_count": 26,
   "metadata": {},
   "outputs": [
    {
     "data": {
      "image/png": "[encoded data removed]",
      "text/plain": [
       "<Figure size 1080x360 with 2 Axes>"
      ]
     },
     "metadata": {
      "needs_background": "light"
     },
     "output_type": "display_data"
    }
   ],
   "source": [
    "fig = plt.figure(figsize=(15,5))\n",
    "\n",
    "# ====== Loss Fluctuation ====== #\n",
    "ax1 = fig.add_subplot(1, 2, 1)\n",
    "ax1.plot(list_epoch, list_train_loss, label='train_loss')\n",
    "ax1.set_xlabel('epoch')\n",
    "ax1.set_ylabel('loss')\n",
    "ax1.grid()\n",
    "ax1.legend()\n",
    "ax1.set_title('epoch vs loss')\n",
    "\n",
    "# ====== Metric Fluctuation ====== #\n",
    "ax2 = fig.add_subplot(1, 2, 2)\n",
    "ax2.plot(list_epoch, list_train_accuracy, marker='x', label='Accuracy')\n",
    "ax2.set_xlabel('epoch')\n",
    "ax2.set_ylabel('Acc')\n",
    "ax2.grid()\n",
    "ax2.legend()\n",
    "ax2.set_title('epoch vs Accuracy')\n",
    "\n",
    "plt.show()"
   ]
  }
 ],
 "metadata": {
  "kernelspec": {
   "display_name": "Python 3",
   "language": "python",
   "name": "python3"
  },
  "language_info": {
   "codemirror_mode": {
    "name": "ipython",
    "version": 3
   },
   "file_extension": ".py",
   "mimetype": "text/x-python",
   "name": "python",
   "nbconvert_exporter": "python",
   "pygments_lexer": "ipython3",
   "version": "3.8.5"
  }
 },
 "nbformat": 4,
 "nbformat_minor": 4
}
