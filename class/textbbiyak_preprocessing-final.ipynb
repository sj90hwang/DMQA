{
 "cells": [
  {
   "cell_type": "markdown",
   "metadata": {},
   "source": [
    "# DATA2 로만 전처리 library별 정성적? 성능비교 먼저 해보자!"
   ]
  },
  {
   "cell_type": "markdown",
   "metadata": {},
   "source": [
    "# Data load"
   ]
  },
  {
   "cell_type": "code",
   "execution_count": 11,
   "metadata": {},
   "outputs": [],
   "source": [
    "import pandas as pd\n",
    "import numpy as np"
   ]
  },
  {
   "cell_type": "code",
   "execution_count": 12,
   "metadata": {},
   "outputs": [],
   "source": [
    "df2 = pd.read_csv('C:/Users/user/Python_learning/DATA2.csv', encoding = 'euc-kr')"
   ]
  },
  {
   "cell_type": "code",
   "execution_count": 13,
   "metadata": {},
   "outputs": [
    {
     "data": {
      "text/html": [
       "<div>\n",
       "<style scoped>\n",
       "    .dataframe tbody tr th:only-of-type {\n",
       "        vertical-align: middle;\n",
       "    }\n",
       "\n",
       "    .dataframe tbody tr th {\n",
       "        vertical-align: top;\n",
       "    }\n",
       "\n",
       "    .dataframe thead th {\n",
       "        text-align: right;\n",
       "    }\n",
       "</style>\n",
       "<table border=\"1\" class=\"dataframe\">\n",
       "  <thead>\n",
       "    <tr style=\"text-align: right;\">\n",
       "      <th></th>\n",
       "      <th>review</th>\n",
       "      <th>ord</th>\n",
       "      <th>ord_group</th>\n",
       "    </tr>\n",
       "  </thead>\n",
       "  <tbody>\n",
       "    <tr>\n",
       "      <th>0</th>\n",
       "      <td>주행중지: 출발후 약 200M 지점 기수 낙마</td>\n",
       "      <td>92</td>\n",
       "      <td>0</td>\n",
       "    </tr>\n",
       "    <tr>\n",
       "      <th>1</th>\n",
       "      <td>후미권 이끌었고 직선 순위도약 시도나 추입력 발휘안돼 고전</td>\n",
       "      <td>7</td>\n",
       "      <td>0</td>\n",
       "    </tr>\n",
       "    <tr>\n",
       "      <th>2</th>\n",
       "      <td>선행으로 경주를 주도했으나 직선막판 근소한 차이로 덜미잡혀</td>\n",
       "      <td>2</td>\n",
       "      <td>1</td>\n",
       "    </tr>\n",
       "    <tr>\n",
       "      <th>3</th>\n",
       "      <td>경주전반에 걸쳐 후미권을 벗어나지 못하고 따라가는모습</td>\n",
       "      <td>10</td>\n",
       "      <td>0</td>\n",
       "    </tr>\n",
       "    <tr>\n",
       "      <th>4</th>\n",
       "      <td>선두권을 압박하며 따라갔으나 4코너부터 격차벌어지며 고전함</td>\n",
       "      <td>6</td>\n",
       "      <td>0</td>\n",
       "    </tr>\n",
       "    <tr>\n",
       "      <th>5</th>\n",
       "      <td>경주전반에 걸쳐 후미권을 벗어나지 못하고 따라가는모습</td>\n",
       "      <td>8</td>\n",
       "      <td>0</td>\n",
       "    </tr>\n",
       "    <tr>\n",
       "      <th>6</th>\n",
       "      <td>출발무난/내측이동선두추격/직선중앙선두권가담/꾹잡고따라만감</td>\n",
       "      <td>0</td>\n",
       "      <td>0</td>\n",
       "    </tr>\n",
       "    <tr>\n",
       "      <th>7</th>\n",
       "      <td>선행마 후미를 따라가며 기회노렸으나 직선 근소한 차이로 덜미</td>\n",
       "      <td>4</td>\n",
       "      <td>0</td>\n",
       "    </tr>\n",
       "    <tr>\n",
       "      <th>8</th>\n",
       "      <td>경주전반에 걸쳐 후미권을 벗어나지 못하고 따라가는모습</td>\n",
       "      <td>11</td>\n",
       "      <td>0</td>\n",
       "    </tr>\n",
       "    <tr>\n",
       "      <th>9</th>\n",
       "      <td>출발무난/선입권중앙/4C외곽선회/직선채찍섞으면석격차좁혀감</td>\n",
       "      <td>0</td>\n",
       "      <td>0</td>\n",
       "    </tr>\n",
       "  </tbody>\n",
       "</table>\n",
       "</div>"
      ],
      "text/plain": [
       "                              review  ord  ord_group\n",
       "0          주행중지: 출발후 약 200M 지점 기수 낙마   92          0\n",
       "1   후미권 이끌었고 직선 순위도약 시도나 추입력 발휘안돼 고전    7          0\n",
       "2   선행으로 경주를 주도했으나 직선막판 근소한 차이로 덜미잡혀    2          1\n",
       "3      경주전반에 걸쳐 후미권을 벗어나지 못하고 따라가는모습   10          0\n",
       "4   선두권을 압박하며 따라갔으나 4코너부터 격차벌어지며 고전함    6          0\n",
       "5      경주전반에 걸쳐 후미권을 벗어나지 못하고 따라가는모습    8          0\n",
       "6    출발무난/내측이동선두추격/직선중앙선두권가담/꾹잡고따라만감    0          0\n",
       "7  선행마 후미를 따라가며 기회노렸으나 직선 근소한 차이로 덜미    4          0\n",
       "8      경주전반에 걸쳐 후미권을 벗어나지 못하고 따라가는모습   11          0\n",
       "9    출발무난/선입권중앙/4C외곽선회/직선채찍섞으면석격차좁혀감    0          0"
      ]
     },
     "execution_count": 13,
     "metadata": {},
     "output_type": "execute_result"
    }
   ],
   "source": [
    "df2[:10]"
   ]
  },
  {
   "cell_type": "code",
   "execution_count": 14,
   "metadata": {},
   "outputs": [],
   "source": [
    "new_df2 = df2.copy()"
   ]
  },
  {
   "cell_type": "code",
   "execution_count": 15,
   "metadata": {},
   "outputs": [
    {
     "name": "stdout",
     "output_type": "stream",
     "text": [
      "['주행중지: 출발후 약 200M 지점 기수 낙마' '후미권 이끌었고 직선 순위도약 시도나 추입력 발휘안돼 고전'\n",
      " '선행으로 경주를 주도했으나 직선막판 근소한 차이로 덜미잡혀' ... '선두권 후미공략이나 직선 강한모습을 못보여줌'\n",
      " '(스포츠조선배)-후미권에서 순위좁히지못해' '후미권 이끌며 순위도약을 노렸으나 직선지친모습']\n"
     ]
    }
   ],
   "source": [
    "list_df2 = np.array(df2['review'].tolist())\n",
    "print(list_df2)"
   ]
  },
  {
   "cell_type": "markdown",
   "metadata": {},
   "source": [
    "# 부호 제거 c_list_df2로 생성"
   ]
  },
  {
   "cell_type": "code",
   "execution_count": 16,
   "metadata": {},
   "outputs": [
    {
     "name": "stdout",
     "output_type": "stream",
     "text": [
      "['초반부터 선두를 추격했으나 경주내내 역전실패로 2착만족' '늦발후 시종 후미권 전개하다 직선 추입력을 보여주며 올라옴'\n",
      " '과태금: 결승선 직선주로 채찍 과다사용' '중위권 전개하다 직선 추입력을 보여주며 막판 후착각축'\n",
      " '출발밀렸으나 3코너 선두권 가담후 직선선두부상 여유승' '선두권을 압박하며 따라갔으나 직선지치며 후미로 밀려'\n",
      " '선입권에서 1코너부터 선두권 각축전개나 시종 선두로 못나서' '출발무난/중앙선두추격/직선중앙선두격차좁혀져꾹잡고따라만감'\n",
      " '출발후약외사/4충돌/내측선두추격/직선내측밀고채찍섞어끝유지' '출발무난/후미내측/직선중앙채찍독려하면서조금씩격차좁혀감']\n"
     ]
    }
   ],
   "source": [
    "print(list_df2[100:110])"
   ]
  },
  {
   "cell_type": "code",
   "execution_count": 24,
   "metadata": {},
   "outputs": [
    {
     "data": {
      "text/html": [
       "<div>\n",
       "<style scoped>\n",
       "    .dataframe tbody tr th:only-of-type {\n",
       "        vertical-align: middle;\n",
       "    }\n",
       "\n",
       "    .dataframe tbody tr th {\n",
       "        vertical-align: top;\n",
       "    }\n",
       "\n",
       "    .dataframe thead th {\n",
       "        text-align: right;\n",
       "    }\n",
       "</style>\n",
       "<table border=\"1\" class=\"dataframe\">\n",
       "  <thead>\n",
       "    <tr style=\"text-align: right;\">\n",
       "      <th></th>\n",
       "      <th>review</th>\n",
       "      <th>ord</th>\n",
       "      <th>ord_group</th>\n",
       "    </tr>\n",
       "  </thead>\n",
       "  <tbody>\n",
       "    <tr>\n",
       "      <th>0</th>\n",
       "      <td>주행중지  출발후 약 200M 지점 기수 낙마</td>\n",
       "      <td>92</td>\n",
       "      <td>0</td>\n",
       "    </tr>\n",
       "    <tr>\n",
       "      <th>1</th>\n",
       "      <td>후미권 이끌었고 직선 순위도약 시도나 추입력 발휘안돼 고전</td>\n",
       "      <td>7</td>\n",
       "      <td>0</td>\n",
       "    </tr>\n",
       "    <tr>\n",
       "      <th>2</th>\n",
       "      <td>선행으로 경주를 주도했으나 직선막판 근소한 차이로 덜미잡혀</td>\n",
       "      <td>2</td>\n",
       "      <td>1</td>\n",
       "    </tr>\n",
       "    <tr>\n",
       "      <th>3</th>\n",
       "      <td>경주전반에 걸쳐 후미권을 벗어나지 못하고 따라가는모습</td>\n",
       "      <td>10</td>\n",
       "      <td>0</td>\n",
       "    </tr>\n",
       "    <tr>\n",
       "      <th>4</th>\n",
       "      <td>선두권을 압박하며 따라갔으나 4코너부터 격차벌어지며 고전함</td>\n",
       "      <td>6</td>\n",
       "      <td>0</td>\n",
       "    </tr>\n",
       "    <tr>\n",
       "      <th>5</th>\n",
       "      <td>경주전반에 걸쳐 후미권을 벗어나지 못하고 따라가는모습</td>\n",
       "      <td>8</td>\n",
       "      <td>0</td>\n",
       "    </tr>\n",
       "    <tr>\n",
       "      <th>6</th>\n",
       "      <td>출발무난 내측이동선두추격 직선중앙선두권가담 꾹잡고따라만감</td>\n",
       "      <td>0</td>\n",
       "      <td>0</td>\n",
       "    </tr>\n",
       "    <tr>\n",
       "      <th>7</th>\n",
       "      <td>선행마 후미를 따라가며 기회노렸으나 직선 근소한 차이로 덜미</td>\n",
       "      <td>4</td>\n",
       "      <td>0</td>\n",
       "    </tr>\n",
       "    <tr>\n",
       "      <th>8</th>\n",
       "      <td>경주전반에 걸쳐 후미권을 벗어나지 못하고 따라가는모습</td>\n",
       "      <td>11</td>\n",
       "      <td>0</td>\n",
       "    </tr>\n",
       "    <tr>\n",
       "      <th>9</th>\n",
       "      <td>출발무난 선입권중앙 4C외곽선회 직선채찍섞으면석격차좁혀감</td>\n",
       "      <td>0</td>\n",
       "      <td>0</td>\n",
       "    </tr>\n",
       "  </tbody>\n",
       "</table>\n",
       "</div>"
      ],
      "text/plain": [
       "                              review  ord  ord_group\n",
       "0          주행중지  출발후 약 200M 지점 기수 낙마   92          0\n",
       "1   후미권 이끌었고 직선 순위도약 시도나 추입력 발휘안돼 고전    7          0\n",
       "2   선행으로 경주를 주도했으나 직선막판 근소한 차이로 덜미잡혀    2          1\n",
       "3      경주전반에 걸쳐 후미권을 벗어나지 못하고 따라가는모습   10          0\n",
       "4   선두권을 압박하며 따라갔으나 4코너부터 격차벌어지며 고전함    6          0\n",
       "5      경주전반에 걸쳐 후미권을 벗어나지 못하고 따라가는모습    8          0\n",
       "6    출발무난 내측이동선두추격 직선중앙선두권가담 꾹잡고따라만감    0          0\n",
       "7  선행마 후미를 따라가며 기회노렸으나 직선 근소한 차이로 덜미    4          0\n",
       "8      경주전반에 걸쳐 후미권을 벗어나지 못하고 따라가는모습   11          0\n",
       "9    출발무난 선입권중앙 4C외곽선회 직선채찍섞으면석격차좁혀감    0          0"
      ]
     },
     "execution_count": 24,
     "metadata": {},
     "output_type": "execute_result"
    }
   ],
   "source": [
    "import re\n",
    "\n",
    "def cleansing(text):\n",
    "    cl_text = re.sub('[-=+,#/\\?:^$.@*\\\"※~&%ㆍ!』\\\\‘|\\(\\)\\[\\]\\<\\>`\\'…/ ]', ' ', text)\n",
    "    return cl_text\n",
    "\n",
    "c_list_df2 = []\n",
    "for x in list_df2 : \n",
    "     c_list_df2.append(cleansing(x))\n",
    "\n",
    "new_df2['review'] = new_df2['review'].apply(cleansing)\n",
    "new_df2[:10]"
   ]
  },
  {
   "cell_type": "code",
   "execution_count": 18,
   "metadata": {},
   "outputs": [
    {
     "name": "stdout",
     "output_type": "stream",
     "text": [
      "['주행중지: 출발후 약 200M 지점 기수 낙마' '후미권 이끌었고 직선 순위도약 시도나 추입력 발휘안돼 고전'\n",
      " '선행으로 경주를 주도했으나 직선막판 근소한 차이로 덜미잡혀' ... '선두권 후미공략이나 직선 강한모습을 못보여줌'\n",
      " '(스포츠조선배)-후미권에서 순위좁히지못해' '후미권 이끌며 순위도약을 노렸으나 직선지친모습']\n",
      "['출발후약외사 4충돌 내측선두추격 직선내측밀고채찍섞어끝유지', '출발무난 후미내측 직선중앙채찍독려하면서조금씩격차좁혀감']\n"
     ]
    }
   ],
   "source": [
    "print(list_df2)\n",
    "print(c_list_df2[108:110])"
   ]
  },
  {
   "cell_type": "markdown",
   "metadata": {},
   "source": [
    "# ★handspell\n",
    "### pip install git+https://github.com/ssut/py-hanspell.git"
   ]
  },
  {
   "cell_type": "code",
   "execution_count": 26,
   "metadata": {},
   "outputs": [],
   "source": [
    "from hanspell import spell_checker\n",
    "\n",
    "def handspell_test(text) :\n",
    "    spelled_text = spell_checker.check(text)\n",
    "    handspell_text = spelled_text = spelled_text.checked\n",
    "    return handspell_text"
   ]
  },
  {
   "cell_type": "code",
   "execution_count": null,
   "metadata": {},
   "outputs": [],
   "source": [
    "new_df2['review'] = new_df2['review'].apply(handspell_test)"
   ]
  },
  {
   "cell_type": "code",
   "execution_count": 31,
   "metadata": {},
   "outputs": [
    {
     "data": {
      "text/html": [
       "<div>\n",
       "<style scoped>\n",
       "    .dataframe tbody tr th:only-of-type {\n",
       "        vertical-align: middle;\n",
       "    }\n",
       "\n",
       "    .dataframe tbody tr th {\n",
       "        vertical-align: top;\n",
       "    }\n",
       "\n",
       "    .dataframe thead th {\n",
       "        text-align: right;\n",
       "    }\n",
       "</style>\n",
       "<table border=\"1\" class=\"dataframe\">\n",
       "  <thead>\n",
       "    <tr style=\"text-align: right;\">\n",
       "      <th></th>\n",
       "      <th>review</th>\n",
       "      <th>ord</th>\n",
       "      <th>ord_group</th>\n",
       "    </tr>\n",
       "  </thead>\n",
       "  <tbody>\n",
       "    <tr>\n",
       "      <th>100</th>\n",
       "      <td>초반부터 선두를 추격했으나 경주 내내 역전 실패로 2착 만족</td>\n",
       "      <td>2</td>\n",
       "      <td>1</td>\n",
       "    </tr>\n",
       "    <tr>\n",
       "      <th>101</th>\n",
       "      <td>늦발후 시종 후미권 전개하다 직선 추입력을 보여주며 올라옴</td>\n",
       "      <td>5</td>\n",
       "      <td>0</td>\n",
       "    </tr>\n",
       "    <tr>\n",
       "      <th>102</th>\n",
       "      <td>과태금  결승선 직선주로 채찍 과다 사용</td>\n",
       "      <td>2</td>\n",
       "      <td>1</td>\n",
       "    </tr>\n",
       "    <tr>\n",
       "      <th>103</th>\n",
       "      <td>중위권 전개하다 직선 추입력을 보여주며 막판 후 착 각축</td>\n",
       "      <td>3</td>\n",
       "      <td>0</td>\n",
       "    </tr>\n",
       "    <tr>\n",
       "      <th>104</th>\n",
       "      <td>출발 밀렸으나 3코너 선두권 가담 후 직선 선두 부상 여에 승</td>\n",
       "      <td>1</td>\n",
       "      <td>1</td>\n",
       "    </tr>\n",
       "    <tr>\n",
       "      <th>105</th>\n",
       "      <td>선두권을 압박하며 따라갔으나 직선 지치며 후미로 밀려</td>\n",
       "      <td>7</td>\n",
       "      <td>0</td>\n",
       "    </tr>\n",
       "    <tr>\n",
       "      <th>106</th>\n",
       "      <td>선입권에서 1코너부터 선두권 각축전 개나 시종 선두로 못나서</td>\n",
       "      <td>2</td>\n",
       "      <td>1</td>\n",
       "    </tr>\n",
       "    <tr>\n",
       "      <th>107</th>\n",
       "      <td>출발 무난 중앙 선두 추격 직선 중앙 선두 격차 좁혀져 꾹 잡고 따라 만감</td>\n",
       "      <td>0</td>\n",
       "      <td>0</td>\n",
       "    </tr>\n",
       "    <tr>\n",
       "      <th>108</th>\n",
       "      <td>출발 후 약 외사 4충돌 내측 선두 추격 직선 내측 밀고 채찍 섞어 끝 유지</td>\n",
       "      <td>0</td>\n",
       "      <td>0</td>\n",
       "    </tr>\n",
       "    <tr>\n",
       "      <th>109</th>\n",
       "      <td>출발 무난 후미 내측 직선 중앙 채찍 독려하면서 조금씩 격차 좁혀 감</td>\n",
       "      <td>0</td>\n",
       "      <td>0</td>\n",
       "    </tr>\n",
       "  </tbody>\n",
       "</table>\n",
       "</div>"
      ],
      "text/plain": [
       "                                         review  ord  ord_group\n",
       "100           초반부터 선두를 추격했으나 경주 내내 역전 실패로 2착 만족    2          1\n",
       "101            늦발후 시종 후미권 전개하다 직선 추입력을 보여주며 올라옴    5          0\n",
       "102                      과태금  결승선 직선주로 채찍 과다 사용    2          1\n",
       "103             중위권 전개하다 직선 추입력을 보여주며 막판 후 착 각축    3          0\n",
       "104          출발 밀렸으나 3코너 선두권 가담 후 직선 선두 부상 여에 승    1          1\n",
       "105               선두권을 압박하며 따라갔으나 직선 지치며 후미로 밀려    7          0\n",
       "106           선입권에서 1코너부터 선두권 각축전 개나 시종 선두로 못나서    2          1\n",
       "107   출발 무난 중앙 선두 추격 직선 중앙 선두 격차 좁혀져 꾹 잡고 따라 만감    0          0\n",
       "108  출발 후 약 외사 4충돌 내측 선두 추격 직선 내측 밀고 채찍 섞어 끝 유지    0          0\n",
       "109      출발 무난 후미 내측 직선 중앙 채찍 독려하면서 조금씩 격차 좁혀 감    0          0"
      ]
     },
     "execution_count": 31,
     "metadata": {},
     "output_type": "execute_result"
    }
   ],
   "source": [
    "new_df2[100:110]"
   ]
  },
  {
   "cell_type": "code",
   "execution_count": 33,
   "metadata": {},
   "outputs": [
    {
     "name": "stdout",
     "output_type": "stream",
     "text": [
      "['주행 중지  출발 후 약 200M 지점 기수 낙마' '후미권 이끌었고 직선 순위 도약 시도나 추입력 발휘 안돼 고전'\n",
      " '선행으로 경주를 주도했으나 직선 막판 근소한 차이로 덜미잡혀' '경주 전반에 걸쳐 후미권을 벗어나지 못하고 따라가는 모습'\n",
      " '선두권을 압박하며 따라갔으나 4코너부터 격차 벌어지며 고전함' '경주 전반에 걸쳐 후미권을 벗어나지 못하고 따라가는 모습'\n",
      " '출발 무난 내측이 등 선두 추격 직선 중앙 선두권 가담 꾹 잡고 따라 만감'\n",
      " '선행마 후미를 따라가며 기회 노렸으나 직선 근소한 차이로 덜미' '경주 전반에 걸쳐 후미권을 벗어나지 못하고 따라가는 모습'\n",
      " '출발 무난 선입권 중앙 4C 외곽선회 직선 채찍 섞으면 석 격차 좁혀 감']\n"
     ]
    }
   ],
   "source": [
    "corpus_df2 = np.array(new_df2['review'].tolist())\n",
    "print(corpus_df2[:10])"
   ]
  },
  {
   "cell_type": "markdown",
   "metadata": {},
   "source": [
    "# ★soynlp\n",
    "### pip install soynlp\n",
    "###  WordExtractor"
   ]
  },
  {
   "cell_type": "markdown",
   "metadata": {},
   "source": [
    "#### 우리 전문지 script를 통해서 학습진행"
   ]
  },
  {
   "cell_type": "code",
   "execution_count": 34,
   "metadata": {},
   "outputs": [
    {
     "name": "stdout",
     "output_type": "stream",
     "text": [
      "[Noun Extractor] used default noun predictor; Sejong corpus predictor\n",
      "[Noun Extractor] used noun_predictor_sejong\n",
      "[Noun Extractor] All 2398 r features was loaded\n",
      "[Noun Extractor] scanning was done (L,R) has (1157, 615) tokens\n",
      "[Noun Extractor] building L-R graph was done\n",
      "[Noun Extractor] 72 nouns are extracted\n",
      "training was done. used memory 0.135 Gbry 0.131 Gb\n",
      "all cohesion probabilities was computed. # words = 460\n",
      "all branching entropies was computed # words = 2269\n",
      "all accessor variety was computed # words = 2269\n"
     ]
    }
   ],
   "source": [
    "from soynlp.noun import LRNounExtractor\n",
    "from soynlp.word import WordExtractor\n",
    "from soynlp.tokenizer import LTokenizer\n",
    "\n",
    "noun_extractor = LRNounExtractor()\n",
    "nouns = noun_extractor.train_extract(corpus_df2) # list of str like\n",
    "\n",
    "\n",
    "word_extractor = WordExtractor(\n",
    "    min_frequency=50, # example\n",
    "    min_cohesion_forward=0.05,\n",
    "    min_right_branching_entropy=0.0\n",
    ")\n",
    "\n",
    "word_extractor.train(corpus_df2)\n",
    "words = word_extractor.extract()\n",
    "\n",
    "cohesion_score = {word:score.cohesion_forward for word, score in words.items()}\n",
    "\n",
    "noun_scores = {noun:score.score for noun, score in nouns.items()}\n",
    "combined_scores = {noun:score + cohesion_score.get(noun, 0)\n",
    "    for noun, score in noun_scores.items()}\n",
    "combined_scores.update(\n",
    "    {subword:cohesion for subword, cohesion in cohesion_score.items()\n",
    "    if not (subword in combined_scores)}\n",
    ")\n",
    "\n",
    "tokenizer = LTokenizer(scores=combined_scores)"
   ]
  },
  {
   "cell_type": "markdown",
   "metadata": {},
   "source": [
    "#### 결과"
   ]
  },
  {
   "cell_type": "code",
   "execution_count": 51,
   "metadata": {},
   "outputs": [
    {
     "name": "stdout",
     "output_type": "stream",
     "text": [
      "['초반부터 선두를 추격했으나 경주 내내 역전 실패로 2착 만족' '늦발후 시종 후미권 전개하다 직선 추입력을 보여주며 올라옴'\n",
      " '과태금  결승선 직선주로 채찍 과다 사용' '중위권 전개하다 직선 추입력을 보여주며 막판 후 착 각축'\n",
      " '출발 밀렸으나 3코너 선두권 가담 후 직선 선두 부상 여에 승' '선두권을 압박하며 따라갔으나 직선 지치며 후미로 밀려'\n",
      " '선입권에서 1코너부터 선두권 각축전 개나 시종 선두로 못나서'\n",
      " '출발 무난 중앙 선두 추격 직선 중앙 선두 격차 좁혀져 꾹 잡고 따라 만감'\n",
      " '출발 후 약 외사 4충돌 내측 선두 추격 직선 내측 밀고 채찍 섞어 끝 유지'\n",
      " '출발 무난 후미 내측 직선 중앙 채찍 독려하면서 조금씩 격차 좁혀 감']\n",
      "['후미', '출발', '후', '경주', '중반', '순위', '도약', '시도나', '직선', '지치며', '후미', '로']\n",
      "['중반', '이후', '격차', '좁혔고', '직선', '탄력', '보이', '나', '아쉬', '움']\n",
      "['시종', '후미', '권', '전개', '했고', '직선', '걸음', '발휘', '나', '순위', '못', '좁혀']\n",
      "['출발', '좋음', '선두', '외곽', '질주', '직선', '중앙', '무리', '없이', '꾹', '잡고', '말', '가는', '대로', '따라', '감']\n",
      "['선행', '성공', '이나', '3코너', '선두', '내주고', '4코너', '부터', '순위', '밀려', '직선', '후미']\n",
      "['선입', '최신', '전개', '펼쳤', '으나', '직선', '주로', '추격', '허용', '하며', '처짐']\n",
      "['출발', '부터', '밀리는', '모습', '에', '중반', '에도', '후미', '로', '처지는', '모습', '보임']\n",
      "['중위권', '전개', '펼쳐나갔지만', '직선', '걸음', '무뎌', '지며', '후', '미처', '짐']\n",
      "['중반', '이후', '밀렸고', '직선', '주로', '다시', '한발', '쓰나', '역전', '실패', '아쉬', '움']\n",
      "['선행마', '후미', '를', '따라', '갔으나', '직선', '초반', '부터', '격차', '벌어', '지며', '밀려']\n",
      "['선입권', '전개', '나', '1코너', '진입', '지점', '에서', '방해', '를', '받으며', '고전']\n",
      "['출발', '밀렸고', '시종', '순위', '를', '좁혔으나', '막판', '입상', '과는', '격차', '있어']\n",
      "['기승', '정지', '결승선', '전방', '약', '250M', '지점', '안으로', '진로', '변경', '타마', '방해']\n",
      "['후미', '출발', '후', '시종', '순위', '를', '좁히', '며', '올라', '왔으나', '역전', '실패', '3착']\n",
      "['시종', '후미', '권', '전개', '하며', '순위', '도약', '을', '노렸으나', '시종', '여의치', '않음']\n",
      "['선행마', '후미', '권', '각축', '전개', '하다', '직선', '선두', '부상', '후', '여에', '승']\n",
      "['기승', '정지', '출발', '후', '약', '300M', '지점', '안으로', '진로', '변경', '타마', '방해']\n",
      "['중위권', '전개', '하다', '직선', '방해', '를', '받았어도', '선두', '로', '부상', '하며', '우승']\n",
      "['시종', '후미', '권을', '벗어', '나지', '못했으나', '직선', '걸음', '발휘', '순위', '좁혀']\n",
      "['내측', '선두', '추격', '직선', '밀었으나', '내측', '기대', '려', '해', '채찍', '걸음', '유지']\n",
      "['주행', '심사', '출발', '이후', '4코너', '까지', '바깥', '으로', '기댐']\n",
      "['세계일보배', '과태금', '결승선', '직선', '주로', '채찍', '과다', '사용']\n",
      "['시종', '후미', '권', '전개', '나', '막판', '걸음', '은', '좋은', '모습']\n",
      "['시종', '후미', '권을', '벗어', '나지', '못하고', '따라', '감']\n",
      "['선행으로', '경주', '주도', '했으나', '직선', '주로', '덜미', '잡혀', '3착', '에', '머묾']\n",
      "['중위권', '최선', '전개', '나', '경주', '내내', '큰', '변화', '는', '보여', '주지', '못함']\n",
      "['출발', '부터', '밀렸으나', '직선', '주로', '탄력', '으로', '추입', '나서', '며', '4착', '기록']\n",
      "['중간', '후', '미', '맴돌', '았고', '직선', '주로', '추입', '력', '보이', '나', '역전', '실패', '아쉬', '움']\n",
      "['선행마', '후미', '따르며', '각축', '전개', '하다', '직선', '막판', '선행마', '덜미', '잡아']\n",
      "['중반', '이후', '격차', '좁혔고', '직선', '탄력', '유지', '하며', '4척', '기록', '함']\n",
      "['초반', '부터', '선두', '를', '추격', '했으나', '경주', '내내', '역전', '실패', '로', '2착', '만족']\n",
      "['늦발', '후', '시종', '후미', '권', '전개', '하다', '직선', '추입', '력을', '보여', '주며', '올라', '옴']\n",
      "['과태금', '결승선', '직선', '주로', '채찍', '과다', '사용']\n",
      "['중위권', '전개', '하다', '직선', '추입', '력을', '보여', '주며', '막판', '후', '착', '각축']\n",
      "['출발', '밀렸으나', '3코너', '선두', '권', '가담', '후', '직선', '선두', '부상', '여에', '승']\n",
      "['선두', '권을', '압박', '하며', '따라', '갔으나', '직선', '지치며', '후미', '로', '밀려']\n",
      "['선입권', '에서', '1코너', '부터', '선두', '권', '각축', '전', '개나', '시종', '선두', '로', '못나서']\n",
      "['출발', '무난', '중앙', '선두', '추격', '직선', '중앙', '선두', '격차', '좁혀', '져', '꾹', '잡고', '따라', '만감']\n",
      "['출발', '후', '약', '외사', '4충돌', '내측', '선두', '추격', '직선', '내측', '밀고', '채찍', '섞어', '끝', '유지']\n",
      "['출발', '무난', '후미', '내측', '직선', '중앙', '채찍', '독려', '하면서', '조금', '씩', '격차', '좁혀', '감']\n"
     ]
    }
   ],
   "source": [
    "print(corpus_df2[100:110])\n",
    "for x in corpus_df2[70:110]:\n",
    "    print(tokenizer.tokenize(x))"
   ]
  },
  {
   "cell_type": "code",
   "execution_count": null,
   "metadata": {},
   "outputs": [],
   "source": []
  },
  {
   "cell_type": "code",
   "execution_count": null,
   "metadata": {},
   "outputs": [],
   "source": []
  },
  {
   "cell_type": "code",
   "execution_count": null,
   "metadata": {},
   "outputs": [],
   "source": []
  },
  {
   "cell_type": "code",
   "execution_count": null,
   "metadata": {},
   "outputs": [],
   "source": []
  },
  {
   "cell_type": "markdown",
   "metadata": {},
   "source": [
    "# soynlp와 별도로 Customized-konlpy를 써서 사전추가를 통해 갈라보자"
   ]
  },
  {
   "cell_type": "markdown",
   "metadata": {},
   "source": [
    "# KR-wordrank로 뽑아서 사전추가를 해보자..."
   ]
  },
  {
   "cell_type": "code",
   "execution_count": 42,
   "metadata": {},
   "outputs": [],
   "source": [
    "from krwordrank.hangle import normalize\n",
    "\n",
    "krwordrank_df2 = [normalize(text, english=True, number=True) for text in corpus_df2]"
   ]
  },
  {
   "cell_type": "code",
   "execution_count": 43,
   "metadata": {},
   "outputs": [
    {
     "name": "stdout",
     "output_type": "stream",
     "text": [
      "scan vocabs ... \n",
      "num vocabs = 1816\n",
      "done = 10\n"
     ]
    }
   ],
   "source": [
    "from krwordrank.word import KRWordRank\n",
    "\n",
    "wordrank_extractor = KRWordRank(\n",
    "    min_count = 5, # 단어의 최소 출현 빈도수 (그래프 생성 시)\n",
    "    max_length = 10, # 단어의 최대 길이\n",
    "    verbose = True\n",
    "    )\n",
    "\n",
    "beta = 0.85    # PageRank의 decaying factor beta\n",
    "max_iter = 10\n",
    "\n",
    "keywords, rank, graph = wordrank_extractor.extract(krwordrank_df2, beta, max_iter)"
   ]
  },
  {
   "cell_type": "code",
   "execution_count": 44,
   "metadata": {},
   "outputs": [
    {
     "name": "stdout",
     "output_type": "stream",
     "text": [
      "      직선:\t46.3186\n",
      "      후미:\t20.2484\n",
      "      선두:\t15.3990\n",
      "      시종:\t12.2107\n",
      "      걸음:\t10.6452\n",
      "      격차:\t10.6441\n",
      "      채찍:\t9.8524\n",
      "      탄력:\t9.1611\n",
      "      경주:\t8.5462\n",
      "     중위권:\t8.1358\n",
      "      출발:\t8.0317\n",
      "      순위:\t7.2644\n",
      "      선입:\t6.8960\n",
      "      전개:\t6.8672\n",
      "      모습:\t6.6918\n",
      "      밀려:\t6.2691\n",
      "      따라:\t5.8537\n",
      "      선행:\t5.7168\n",
      "      이후:\t5.1568\n",
      "      막판:\t4.8241\n",
      "      처짐:\t4.4984\n",
      "      내측:\t4.4505\n",
      "      유지:\t4.1523\n",
      "      외곽:\t4.0797\n",
      "      추격:\t4.0706\n",
      "      중반:\t3.7783\n",
      "     밀렸고:\t3.4848\n",
      "      실패:\t3.4770\n",
      "      중앙:\t3.4542\n",
      "      덜미:\t3.2664\n",
      "      추입:\t3.2614\n",
      "     4코너:\t3.0454\n",
      "      보이:\t2.9803\n",
      "      좁혀:\t2.8867\n",
      "    벗어나지:\t2.8136\n",
      "      조금:\t2.7875\n",
      "      못함:\t2.6322\n",
      "      3착:\t2.5558\n",
      "      우승:\t2.3533\n",
      "      밀어:\t2.3413\n",
      "      최선:\t2.3382\n",
      "      불량:\t2.3373\n",
      "      2착:\t2.2701\n",
      "     못하고:\t2.2527\n",
      "      역전:\t2.2363\n",
      "      올라:\t2.1773\n",
      "      기회:\t2.1496\n",
      "      좋아:\t2.0696\n",
      "      못해:\t1.9887\n",
      "      심사:\t1.9643\n",
      "      초반:\t1.9637\n",
      "      주행:\t1.9305\n",
      "      강한:\t1.8996\n",
      "     3코너:\t1.8775\n",
      "      각축:\t1.8651\n",
      "     밀리는:\t1.8626\n",
      "     끝걸음:\t1.8204\n",
      "      무뎌:\t1.7736\n",
      "      중간:\t1.7430\n",
      "      4착:\t1.7321\n",
      "      취소:\t1.6671\n",
      "      지점:\t1.6657\n",
      "     불합격:\t1.6555\n",
      "     보여줌:\t1.6133\n",
      "      보임:\t1.6078\n",
      "      방해:\t1.5869\n",
      "      고전:\t1.5853\n",
      "      없이:\t1.5833\n",
      "     결승선:\t1.5503\n",
      "      밀며:\t1.5468\n",
      "      압박:\t1.5365\n",
      "     꾸준히:\t1.5157\n",
      "      진입:\t1.5096\n",
      "      무난:\t1.5077\n",
      "      허용:\t1.4994\n",
      "      밀림:\t1.4682\n",
      "      후착:\t1.4624\n",
      "      주도:\t1.4511\n",
      "      변화:\t1.4292\n",
      "      잡고:\t1.4288\n",
      "      경합:\t1.4207\n",
      "      독려:\t1.4203\n",
      "      발휘:\t1.3976\n",
      "      출전:\t1.3732\n",
      "      이끌:\t1.3464\n",
      "      아쉬:\t1.3347\n",
      "    노렸으나:\t1.3323\n",
      "      않음:\t1.3309\n",
      "      좁히:\t1.3165\n",
      "     지치며:\t1.3154\n",
      "      강공:\t1.3078\n",
      "      나서:\t1.2911\n",
      "      내내:\t1.2641\n",
      "      기댐:\t1.2578\n",
      "    공략이나:\t1.2463\n",
      "      미달:\t1.2461\n",
      "      능력:\t1.2403\n",
      "      연습:\t1.2287\n",
      "    바깥으로:\t1.2146\n",
      "      부진:\t1.2074\n",
      "['직선', '후미', '선두', '시종', '걸음', '격차', '채찍', '탄력', '경주', '중위권', '출발', '순위', '선입', '전개', '모습', '밀려', '따라', '선행', '이후', '막판', '처짐', '내측', '유지', '외곽', '추격', '중반', '밀렸고', '실패', '중앙', '덜미', '추입', '4코너', '보이', '좁혀', '벗어나지', '조금', '못함', '3착', '우승', '밀어', '최선', '불량', '2착', '못하고', '역전', '올라', '기회', '좋아', '못해', '심사', '초반', '주행', '강한', '3코너', '각축', '밀리는', '끝걸음', '무뎌', '중간', '4착', '취소', '지점', '불합격', '보여줌', '보임', '방해', '고전', '없이', '결승선', '밀며', '압박', '꾸준히', '진입', '무난', '허용', '밀림', '후착', '주도', '변화', '잡고', '경합', '독려', '발휘', '출전', '이끌', '아쉬', '노렸으나', '않음', '좁히', '지치며', '강공', '나서', '내내', '기댐', '공략이나', '미달', '능력', '연습', '바깥으로', '부진']\n"
     ]
    }
   ],
   "source": [
    "for word, r in sorted(keywords.items(), key=lambda x:x[1], reverse=True)[:100]:\n",
    "    print('%8s:\\t%.4f' % (word, r))\n",
    "    \n",
    "wordnet = []\n",
    "for word, r in sorted(keywords.items(), key=lambda x:x[1], reverse=True)[:100]:\n",
    "    wordnet.append(word)\n",
    "print(wordnet)"
   ]
  },
  {
   "cell_type": "markdown",
   "metadata": {},
   "source": [
    "# 위에서 뽑은 wordnet 100개 + 매뉴얼 α를 추가"
   ]
  },
  {
   "cell_type": "code",
   "execution_count": 50,
   "metadata": {},
   "outputs": [
    {
     "name": "stdout",
     "output_type": "stream",
     "text": [
      "['후미', '출발', '후', '경주중반', '순위도', '약', '시도', '나', '직선', '지치며', '후미', '로']\n",
      "['중반', '이후', '격차', '좁혔고', '직선', '탄력', '보이', '나', '아쉬움']\n",
      "['시종', '후미', '권', '전개', '했고', '직선', '걸음', '발휘', '나', '순위', '못', '좁혀']\n",
      "['출발', '좋음', '선두', '외곽', '질주', '직선', '중앙', '무리', '없이', '꾹', '잡고', '말가는', '대로', '따라', '감']\n",
      "['선행', '성공', '이나', '3코너', '선두', '내주', '고', '4코너', '부터', '순위', '밀려', '직선', '후미']\n",
      "['선입', '최선', '전개', '펼쳤으나', '직선', '주로', '추격', '허용', '하며', '처짐']\n",
      "['출발', '부터', '밀리는', '모습', '에', '중반', '에도', '후미', '로', '처지', '는', '모습', '보임']\n",
      "['중위권', '전개', '펼쳐', '나갔', '지만', '직선', '걸음', '무뎌', '지', '며', '후미', '처짐']\n",
      "['중반', '이후', '밀렸고', '직선', '주로', '다시', '한발', '쓰나', '역전', '실패', '아쉬움']\n",
      "['선행마', '후미', '를', '따라', '갔으나', '직선', '초반', '부터', '격차', '벌어지며', '밀려']\n",
      "['선입', '권', '전개', '나', '1', '코너', '진입', '지점', '에서', '방해', '를', '받으며', '고전']\n",
      "['출발', '밀렸고', '시종', '순위', '를', '좁혔으나', '막판', '입상', '과는', '격차', '있어']\n",
      "['기승정지', '결승선', '전방', '약', '250', 'M', '지점', '안', '으로', '진로', '변경', '타마', '방해']\n",
      "['후미', '출발', '후', '시종', '순위', '를', '좁히', '며', '올라', '왔으나', '역전', '실패', '3착']\n",
      "['시종', '후미', '권', '전개', '하며', '순위도', '약', '을', '노렸으나', '시종', '여의', '치', '않음']\n",
      "['선행마', '후미', '권', '각축', '전개', '하다', '직선', '선두', '부상', '후', '여유', '승']\n",
      "['기승정지', '출발', '후', '약', '300', 'M', '지점', '안', '으로', '진로', '변경', '타마', '방해']\n",
      "['중위권', '전개', '하다', '직선', '방해', '를', '받았', '어도', '선두', '로', '부', '상하', '며', '우승']\n",
      "['시종', '후미', '권', '을', '벗어나지', '못', '했으나', '직선', '걸음', '발휘', '순위', '좁혀']\n",
      "['내측', '선두', '추격', '직선', '밀었으나', '내측', '기대', '려', '해', '채찍', '걸음', '유지']\n",
      "['주행', '심사', '출발', '이후', '4코너', '까지', '바깥으로', '기댐']\n",
      "['세계', '일보', '배', '과태금', '결승선', '직선', '주로', '채찍', '과다', '사용']\n",
      "['시종', '후미', '권', '전개', '나', '막판', '걸음', '은', '좋은', '모습']\n",
      "['시종', '후미', '권', '을', '벗어나지', '못하고', '따라', '감']\n",
      "['선행', '으로', '경주', '주도', '했으나', '직선', '주로', '덜미', '잡혀', '3착', '에', '머뭄']\n",
      "['중위권', '최선', '전개', '나', '경주', '내내', '큰', '변화', '는', '보여주', '지', '못함']\n",
      "['출발', '부터', '밀렸으나', '직선', '주로', '탄력', '으로', '추입', '나서', '며', '4착', '기록']\n",
      "['중간', '후미', '맴돌았고', '직선', '주로', '추입력', '보이', '나', '역전', '실패', '아쉬움']\n",
      "['선행마', '후미', '따르며', '각축', '전개', '하다', '직선', '막판', '선행마', '덜미', '잡아']\n",
      "['중반', '이후', '격차', '좁혔고', '직선', '탄력', '유', '지하', '며', '4', '척', '기록', '함']\n",
      "['초반', '부터', '선두', '를', '추격', '했으나', '경주', '내내', '역전', '실패', '로', '2착', '만족']\n",
      "['늦발후', '시종', '후미', '권', '전개', '하다', '직선', '추입력', '을', '보여주', '며', '올라', '옴']\n",
      "['과태금', '결승선', '직선', '주로', '채찍', '과다', '사용']\n",
      "['중위권', '전개', '하다', '직선', '추입력', '을', '보여주', '며', '막판', '후착', '각축']\n",
      "['출발', '밀렸으나', '3코너', '선두', '권', '가담', '후', '직선', '선두', '부상', '여유', '승']\n",
      "['선두', '권', '을', '압', '박하', '며', '따라', '갔으나', '직선', '지치며', '후미', '로', '밀려']\n",
      "['선입', '권', '에서', '1', '코너', '부터', '선두', '권', '각축', '전개', '나', '시종', '선두', '로', '못', '나서']\n",
      "['출발', '무난', '중앙', '선두', '추격', '직선', '중앙', '선두', '격차', '좁혀', '져', '꾹', '잡고', '따라', '만', '감']\n",
      "['출발', '후약', '외사', '4', '충돌', '내측', '선두', '추격', '직선', '내측', '밀고', '채찍', '섞어', '끝', '유지']\n",
      "['출발', '무난', '후미', '내측', '직선', '중앙', '채찍', '독려', '하면서', '조금', '씩', '격차', '좁혀', '감']\n"
     ]
    }
   ],
   "source": [
    "from ckonlpy.tag import Twitter\n",
    "twitter = Twitter()\n",
    "\n",
    "for word in wordnet :\n",
    "    twitter.add_dictionary(word,'Noun')\n",
    "\n",
    "twitter.add_dictionary('추입력','Noun')\n",
    "twitter.add_dictionary('과다','Noun')\n",
    "twitter.add_dictionary('보여주','Noun')\n",
    "twitter.add_dictionary('부상','Verb')\n",
    "twitter.add_dictionary('유지하다','Verb')\n",
    "twitter.add_dictionary('하면서','Noun')\n",
    "twitter.add_dictionary('추입','Noun')\n",
    "twitter.add_dictionary('경주중반','Noun')\n",
    "\n",
    "for x in c_list_df2[70:110]:\n",
    "    print(twitter.morphs(x))"
   ]
  },
  {
   "cell_type": "markdown",
   "metadata": {},
   "source": [
    "# 추가할게 여전히 많긴 하다..."
   ]
  },
  {
   "cell_type": "code",
   "execution_count": null,
   "metadata": {},
   "outputs": [],
   "source": []
  }
 ],
 "metadata": {
  "kernelspec": {
   "display_name": "Python 3",
   "language": "python",
   "name": "python3"
  },
  "language_info": {
   "codemirror_mode": {
    "name": "ipython",
    "version": 3
   },
   "file_extension": ".py",
   "mimetype": "text/x-python",
   "name": "python",
   "nbconvert_exporter": "python",
   "pygments_lexer": "ipython3",
   "version": "3.8.5"
  }
 },
 "nbformat": 4,
 "nbformat_minor": 4
}
