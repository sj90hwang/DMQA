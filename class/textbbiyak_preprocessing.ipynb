{
 "cells": [
  {
   "cell_type": "code",
   "execution_count": 90,
   "metadata": {},
   "outputs": [],
   "source": [
    "import pandas as pd\n",
    "import numpy as np\n",
    "\n",
    "from konlpy.tag import Okt"
   ]
  },
  {
   "cell_type": "code",
   "execution_count": 94,
   "metadata": {},
   "outputs": [],
   "source": [
    "from gensim.test.utils import common_texts\n",
    "from gensim.models.doc2vec import Doc2Vec, TaggedDocument\n",
    "from sklearn.linear_model import LogisticRegression\n",
    "from sklearn.model_selection import train_test_split"
   ]
  },
  {
   "cell_type": "code",
   "execution_count": 95,
   "metadata": {},
   "outputs": [],
   "source": [
    "df1 = pd.read_csv('C:/Users/user/Python_learning/DATA1.csv', encoding = 'euc-kr')\n",
    "df2 = pd.read_csv('C:/Users/user/Python_learning/DATA2.csv', encoding = 'euc-kr')"
   ]
  },
  {
   "cell_type": "code",
   "execution_count": 96,
   "metadata": {},
   "outputs": [
    {
     "data": {
      "text/html": [
       "<div>\n",
       "<style scoped>\n",
       "    .dataframe tbody tr th:only-of-type {\n",
       "        vertical-align: middle;\n",
       "    }\n",
       "\n",
       "    .dataframe tbody tr th {\n",
       "        vertical-align: top;\n",
       "    }\n",
       "\n",
       "    .dataframe thead th {\n",
       "        text-align: right;\n",
       "    }\n",
       "</style>\n",
       "<table border=\"1\" class=\"dataframe\">\n",
       "  <thead>\n",
       "    <tr style=\"text-align: right;\">\n",
       "      <th></th>\n",
       "      <th>rc_date</th>\n",
       "      <th>name</th>\n",
       "      <th>ord</th>\n",
       "      <th>ord_group</th>\n",
       "      <th>review1</th>\n",
       "      <th>review2</th>\n",
       "      <th>review3</th>\n",
       "      <th>review4</th>\n",
       "      <th>review5</th>\n",
       "      <th>review6</th>\n",
       "      <th>review7</th>\n",
       "      <th>review8</th>\n",
       "      <th>pre_date1</th>\n",
       "      <th>pre_date2</th>\n",
       "      <th>pre_date3</th>\n",
       "      <th>pre_date4</th>\n",
       "    </tr>\n",
       "  </thead>\n",
       "  <tbody>\n",
       "    <tr>\n",
       "      <th>0</th>\n",
       "      <td>20201205</td>\n",
       "      <td>디바인플라이</td>\n",
       "      <td>8</td>\n",
       "      <td>0</td>\n",
       "      <td>선두권 내측/결승선 250미터 앞 선두 싸움 밀리고 후미 처짐</td>\n",
       "      <td>주행심사: 경주능력부진(1위마와 32.2 마신차)</td>\n",
       "      <td>중반이후 격차좁히나 직선 걸음 무뎌지며 처짐</td>\n",
       "      <td>외곽 선두 추격/직선 외곽 채찍 따라가나 점점 후미 처짐</td>\n",
       "      <td>0</td>\n",
       "      <td>0</td>\n",
       "      <td>0</td>\n",
       "      <td>0</td>\n",
       "      <td>20201127</td>\n",
       "      <td>20200823</td>\n",
       "      <td>20200808</td>\n",
       "      <td>20200731</td>\n",
       "    </tr>\n",
       "    <tr>\n",
       "      <th>1</th>\n",
       "      <td>20201205</td>\n",
       "      <td>올하트</td>\n",
       "      <td>13</td>\n",
       "      <td>0</td>\n",
       "      <td>선행마 후미권 각축후 직선 선두나 막판 덜미</td>\n",
       "      <td>후미출발후 시종 순위좁혔으나 직선 지친모습</td>\n",
       "      <td>합격유보-출발불량</td>\n",
       "      <td>0</td>\n",
       "      <td>0</td>\n",
       "      <td>0</td>\n",
       "      <td>1.7초 늦발/초반 밋밋한 모습 으로 후미 위치하여 내측에서 따라가나 3코너 진입후...</td>\n",
       "      <td>0</td>\n",
       "      <td>20200816</td>\n",
       "      <td>20200712</td>\n",
       "      <td>20200612</td>\n",
       "      <td>0</td>\n",
       "    </tr>\n",
       "    <tr>\n",
       "      <th>2</th>\n",
       "      <td>20201205</td>\n",
       "      <td>제이이글</td>\n",
       "      <td>5</td>\n",
       "      <td>0</td>\n",
       "      <td>최후미→선입권 중앙/직선 채찍 외사끼 보이나 12경합 끝 유지</td>\n",
       "      <td>0</td>\n",
       "      <td>0</td>\n",
       "      <td>0</td>\n",
       "      <td>출발 약간 늦음/최후미 위치하 였으나 3코너 진입시 걸음 좋 은 모습 보이며 빠르게...</td>\n",
       "      <td>0</td>\n",
       "      <td>0</td>\n",
       "      <td>0</td>\n",
       "      <td>20201030</td>\n",
       "      <td>0</td>\n",
       "      <td>0</td>\n",
       "      <td>0</td>\n",
       "    </tr>\n",
       "    <tr>\n",
       "      <th>3</th>\n",
       "      <td>20201205</td>\n",
       "      <td>마스터선샤인</td>\n",
       "      <td>2</td>\n",
       "      <td>1</td>\n",
       "      <td>출발시 타마와 접촉하며 후미로 밀렸고 시종 후미</td>\n",
       "      <td>선입권 후미 외곽/직선 실전처럼 추진하여 조금씩 격차 좁혀감</td>\n",
       "      <td>불합격-능력미달</td>\n",
       "      <td>심사제외-불합격-진입불량</td>\n",
       "      <td>0</td>\n",
       "      <td>0</td>\n",
       "      <td>0</td>\n",
       "      <td>0</td>\n",
       "      <td>20201115</td>\n",
       "      <td>20201015</td>\n",
       "      <td>20200918</td>\n",
       "      <td>20200821</td>\n",
       "    </tr>\n",
       "    <tr>\n",
       "      <th>4</th>\n",
       "      <td>20201205</td>\n",
       "      <td>나하프린세스</td>\n",
       "      <td>12</td>\n",
       "      <td>0</td>\n",
       "      <td>초반 순위밀렸고 이후 강한모습없이 순위더밀려</td>\n",
       "      <td>선입권 내측/직선 채찍 걸음 무거워 점점 후미 처지며 따라감</td>\n",
       "      <td>불합격-능력미달</td>\n",
       "      <td>0</td>\n",
       "      <td>0</td>\n",
       "      <td>출발무난/초반 걸음 좋은 모습 보였으나 3코너 진입후 더 이 상 무리하지 않고 선입...</td>\n",
       "      <td>0</td>\n",
       "      <td>0</td>\n",
       "      <td>20201023</td>\n",
       "      <td>20200918</td>\n",
       "      <td>20200904</td>\n",
       "      <td>0</td>\n",
       "    </tr>\n",
       "  </tbody>\n",
       "</table>\n",
       "</div>"
      ],
      "text/plain": [
       "    rc_date    name  ord  ord_group                             review1  \\\n",
       "0  20201205  디바인플라이    8          0  선두권 내측/결승선 250미터 앞 선두 싸움 밀리고 후미 처짐   \n",
       "1  20201205     올하트   13          0            선행마 후미권 각축후 직선 선두나 막판 덜미   \n",
       "2  20201205    제이이글    5          0  최후미→선입권 중앙/직선 채찍 외사끼 보이나 12경합 끝 유지   \n",
       "3  20201205  마스터선샤인    2          1          출발시 타마와 접촉하며 후미로 밀렸고 시종 후미   \n",
       "4  20201205  나하프린세스   12          0            초반 순위밀렸고 이후 강한모습없이 순위더밀려   \n",
       "\n",
       "                             review2                   review3  \\\n",
       "0        주행심사: 경주능력부진(1위마와 32.2 마신차)  중반이후 격차좁히나 직선 걸음 무뎌지며 처짐   \n",
       "1            후미출발후 시종 순위좁혔으나 직선 지친모습                 합격유보-출발불량   \n",
       "2                                  0                         0   \n",
       "3  선입권 후미 외곽/직선 실전처럼 추진하여 조금씩 격차 좁혀감                  불합격-능력미달   \n",
       "4  선입권 내측/직선 채찍 걸음 무거워 점점 후미 처지며 따라감                  불합격-능력미달   \n",
       "\n",
       "                           review4  \\\n",
       "0  외곽 선두 추격/직선 외곽 채찍 따라가나 점점 후미 처짐   \n",
       "1                                0   \n",
       "2                                0   \n",
       "3                    심사제외-불합격-진입불량   \n",
       "4                                0   \n",
       "\n",
       "                                             review5  \\\n",
       "0                                                  0   \n",
       "1                                                  0   \n",
       "2  출발 약간 늦음/최후미 위치하 였으나 3코너 진입시 걸음 좋 은 모습 보이며 빠르게...   \n",
       "3                                                  0   \n",
       "4                                                  0   \n",
       "\n",
       "                                             review6  \\\n",
       "0                                                  0   \n",
       "1                                                  0   \n",
       "2                                                  0   \n",
       "3                                                  0   \n",
       "4  출발무난/초반 걸음 좋은 모습 보였으나 3코너 진입후 더 이 상 무리하지 않고 선입...   \n",
       "\n",
       "                                             review7  review8  pre_date1  \\\n",
       "0                                                  0        0   20201127   \n",
       "1  1.7초 늦발/초반 밋밋한 모습 으로 후미 위치하여 내측에서 따라가나 3코너 진입후...        0   20200816   \n",
       "2                                                  0        0   20201030   \n",
       "3                                                  0        0   20201115   \n",
       "4                                                  0        0   20201023   \n",
       "\n",
       "   pre_date2  pre_date3  pre_date4  \n",
       "0   20200823   20200808   20200731  \n",
       "1   20200712   20200612          0  \n",
       "2          0          0          0  \n",
       "3   20201015   20200918   20200821  \n",
       "4   20200918   20200904          0  "
      ]
     },
     "execution_count": 96,
     "metadata": {},
     "output_type": "execute_result"
    }
   ],
   "source": [
    "df1.head()\n"
   ]
  },
  {
   "cell_type": "code",
   "execution_count": 97,
   "metadata": {},
   "outputs": [
    {
     "data": {
      "text/html": [
       "<div>\n",
       "<style scoped>\n",
       "    .dataframe tbody tr th:only-of-type {\n",
       "        vertical-align: middle;\n",
       "    }\n",
       "\n",
       "    .dataframe tbody tr th {\n",
       "        vertical-align: top;\n",
       "    }\n",
       "\n",
       "    .dataframe thead th {\n",
       "        text-align: right;\n",
       "    }\n",
       "</style>\n",
       "<table border=\"1\" class=\"dataframe\">\n",
       "  <thead>\n",
       "    <tr style=\"text-align: right;\">\n",
       "      <th></th>\n",
       "      <th>review</th>\n",
       "      <th>ord</th>\n",
       "      <th>ord_group</th>\n",
       "    </tr>\n",
       "  </thead>\n",
       "  <tbody>\n",
       "    <tr>\n",
       "      <th>0</th>\n",
       "      <td>주행중지: 출발후 약 200M 지점 기수 낙마</td>\n",
       "      <td>92</td>\n",
       "      <td>0</td>\n",
       "    </tr>\n",
       "    <tr>\n",
       "      <th>1</th>\n",
       "      <td>후미권 이끌었고 직선 순위도약 시도나 추입력 발휘안돼 고전</td>\n",
       "      <td>7</td>\n",
       "      <td>0</td>\n",
       "    </tr>\n",
       "    <tr>\n",
       "      <th>2</th>\n",
       "      <td>선행으로 경주를 주도했으나 직선막판 근소한 차이로 덜미잡혀</td>\n",
       "      <td>2</td>\n",
       "      <td>1</td>\n",
       "    </tr>\n",
       "    <tr>\n",
       "      <th>3</th>\n",
       "      <td>경주전반에 걸쳐 후미권을 벗어나지 못하고 따라가는모습</td>\n",
       "      <td>10</td>\n",
       "      <td>0</td>\n",
       "    </tr>\n",
       "    <tr>\n",
       "      <th>4</th>\n",
       "      <td>선두권을 압박하며 따라갔으나 4코너부터 격차벌어지며 고전함</td>\n",
       "      <td>6</td>\n",
       "      <td>0</td>\n",
       "    </tr>\n",
       "  </tbody>\n",
       "</table>\n",
       "</div>"
      ],
      "text/plain": [
       "                             review  ord  ord_group\n",
       "0         주행중지: 출발후 약 200M 지점 기수 낙마   92          0\n",
       "1  후미권 이끌었고 직선 순위도약 시도나 추입력 발휘안돼 고전    7          0\n",
       "2  선행으로 경주를 주도했으나 직선막판 근소한 차이로 덜미잡혀    2          1\n",
       "3     경주전반에 걸쳐 후미권을 벗어나지 못하고 따라가는모습   10          0\n",
       "4  선두권을 압박하며 따라갔으나 4코너부터 격차벌어지며 고전함    6          0"
      ]
     },
     "execution_count": 97,
     "metadata": {},
     "output_type": "execute_result"
    }
   ],
   "source": [
    "df2.head()"
   ]
  },
  {
   "cell_type": "code",
   "execution_count": 98,
   "metadata": {},
   "outputs": [
    {
     "name": "stdout",
     "output_type": "stream",
     "text": [
      "['주행중지: 출발후 약 200M 지점 기수 낙마' '후미권 이끌었고 직선 순위도약 시도나 추입력 발휘안돼 고전'\n",
      " '선행으로 경주를 주도했으나 직선막판 근소한 차이로 덜미잡혀' ... '선두권 후미공략이나 직선 강한모습을 못보여줌'\n",
      " '(스포츠조선배)-후미권에서 순위좁히지못해' '후미권 이끌며 순위도약을 노렸으나 직선지친모습']\n"
     ]
    }
   ],
   "source": [
    "list_df2 = np.array(df2['review'].tolist())\n",
    "print(list_df2)"
   ]
  },
  {
   "cell_type": "code",
   "execution_count": 99,
   "metadata": {},
   "outputs": [],
   "source": [
    "okt = Okt()"
   ]
  },
  {
   "cell_type": "code",
   "execution_count": 100,
   "metadata": {},
   "outputs": [
    {
     "name": "stdout",
     "output_type": "stream",
     "text": [
      "['선행', '으로', '경주', '를', '주도했으나', '직선', '막판', '근소', '한', '차이', '로', '덜미', '잡혀']\n"
     ]
    }
   ],
   "source": [
    "text = '선행으로경주를주도했으나직선막판근소한차이로덜미잡혀'\n",
    "print(okt.morphs(text))"
   ]
  },
  {
   "cell_type": "code",
   "execution_count": 101,
   "metadata": {},
   "outputs": [],
   "source": [
    "nouns_review_df2 = []\n",
    "for text in list_df2 : \n",
    "    nouns_review_df2.append(okt.nouns(text))"
   ]
  },
  {
   "cell_type": "code",
   "execution_count": 102,
   "metadata": {},
   "outputs": [],
   "source": [
    "morphs_review_df2 = []\n",
    "for text in list_df2 : \n",
    "    morphs_review_df2.append(okt.morphs(text))"
   ]
  },
  {
   "cell_type": "code",
   "execution_count": 103,
   "metadata": {},
   "outputs": [
    {
     "name": "stdout",
     "output_type": "stream",
     "text": [
      "[['주행', '중지', '출발', '후', '약', '지점', '기수', '낙마'], ['후미', '직선', '순위', '도약', '시도', '추', '입력', '발휘', '고전'], ['선행', '경주', '직선', '막판', '근소', '차이', '덜미'], ['전반', '후미', '못', '모습']]\n"
     ]
    }
   ],
   "source": [
    "print(nouns_review_df2[0:4])"
   ]
  },
  {
   "cell_type": "code",
   "execution_count": 104,
   "metadata": {},
   "outputs": [
    {
     "name": "stdout",
     "output_type": "stream",
     "text": [
      "[['주행', '중지', ':', '출발', '후', '약', '200', 'M', '지점', '기수', '낙마'], ['후미', '권', '이끌었고', '직선', '순위', '도약', '시도', '나', '추', '입력', '발휘', '안', '돼', '고전'], ['선행', '으로', '경주', '를', '주도했으나', '직선', '막판', '근소', '한', '차이', '로', '덜미', '잡혀'], ['경', '주', '전반', '에', '걸쳐', '후미', '권', '을', '벗어나지', '못', '하고', '따라가는', '모습']]\n"
     ]
    }
   ],
   "source": [
    "print(morphs_review_df2[0:4])"
   ]
  },
  {
   "cell_type": "code",
   "execution_count": 105,
   "metadata": {},
   "outputs": [],
   "source": [
    "review_texts_and_tags = [\n",
    "    (text, [f\"str_{i}\",]) for i, text in enumerate(morphs_review_df2)\n",
    "]"
   ]
  },
  {
   "cell_type": "code",
   "execution_count": 106,
   "metadata": {},
   "outputs": [
    {
     "data": {
      "text/plain": [
       "[(['주행', '중지', ':', '출발', '후', '약', '200', 'M', '지점', '기수', '낙마'], ['str_0']),\n",
       " (['후미',\n",
       "   '권',\n",
       "   '이끌었고',\n",
       "   '직선',\n",
       "   '순위',\n",
       "   '도약',\n",
       "   '시도',\n",
       "   '나',\n",
       "   '추',\n",
       "   '입력',\n",
       "   '발휘',\n",
       "   '안',\n",
       "   '돼',\n",
       "   '고전'],\n",
       "  ['str_1'])]"
      ]
     },
     "execution_count": 106,
     "metadata": {},
     "output_type": "execute_result"
    }
   ],
   "source": [
    "review_texts_and_tags[:2]"
   ]
  },
  {
   "cell_type": "code",
   "execution_count": 107,
   "metadata": {},
   "outputs": [],
   "source": [
    "train_review_texts_and_tags = review_texts_and_tags[:5831]\n",
    "test_review_texts_and_tags = review_texts_and_tags[5831:]"
   ]
  },
  {
   "cell_type": "code",
   "execution_count": 108,
   "metadata": {},
   "outputs": [],
   "source": [
    "TRAIN_documents = [TaggedDocument(words=text, tags=tags) for text, tags in train_review_texts_and_tags]"
   ]
  },
  {
   "cell_type": "code",
   "execution_count": 109,
   "metadata": {},
   "outputs": [],
   "source": [
    "model = Doc2Vec(TRAIN_documents, vector_size=5, window=3, epochs=40, min_count=0, workers=4)"
   ]
  },
  {
   "cell_type": "code",
   "execution_count": 110,
   "metadata": {},
   "outputs": [
    {
     "name": "stderr",
     "output_type": "stream",
     "text": [
      "<ipython-input-110-706697a57443>:3: DeprecationWarning: Call to deprecated `docvecs` (The `docvecs` property has been renamed `dv`.).\n",
      "  trained_doc_vec = model.docvecs[tags[0]]\n"
     ]
    }
   ],
   "source": [
    "train_review_vectors = []\n",
    "for text, tags in train_review_texts_and_tags:\n",
    "    trained_doc_vec = model.docvecs[tags[0]]\n",
    "    inferred_doc_vec = model.infer_vector(text)\n",
    "#     print(f\"tags: {tags}, text: {text}\")\n",
    "#     print(f\"trained_doc_vec: {trained_doc_vec}\")\n",
    "#     print(f\"inferred_doc_vec: {inferred_doc_vec}\")\n",
    "#     print(\"--\"*20)\n",
    "    train_review_vectors.append(trained_doc_vec)"
   ]
  },
  {
   "cell_type": "code",
   "execution_count": 111,
   "metadata": {},
   "outputs": [],
   "source": [
    "train_dataset = []\n",
    "for x, y in zip(train_review_vectors, df2['ord_group'][:5831]):\n",
    "    train_dataset.append([x,y])"
   ]
  },
  {
   "cell_type": "code",
   "execution_count": 112,
   "metadata": {},
   "outputs": [
    {
     "data": {
      "text/plain": [
       "[[array([-0.1663027 ,  0.54144716,  0.8143487 ,  0.18927506, -0.06319127],\n",
       "        dtype=float32),\n",
       "  0],\n",
       " [array([-0.6933487 , -0.3045089 ,  0.31251273, -0.63326806,  0.03695778],\n",
       "        dtype=float32),\n",
       "  0],\n",
       " [array([-0.02747611,  0.28565156, -0.26904252, -0.25000507, -0.24854429],\n",
       "        dtype=float32),\n",
       "  1],\n",
       " [array([-0.18155083, -0.12705897,  0.4789201 , -0.89302665, -0.09409218],\n",
       "        dtype=float32),\n",
       "  0],\n",
       " [array([-0.23690338,  0.7840228 ,  0.16076323, -0.5060301 ,  0.20045507],\n",
       "        dtype=float32),\n",
       "  0]]"
      ]
     },
     "execution_count": 112,
     "metadata": {},
     "output_type": "execute_result"
    }
   ],
   "source": [
    "train_dataset[:5]"
   ]
  },
  {
   "cell_type": "code",
   "execution_count": 113,
   "metadata": {},
   "outputs": [
    {
     "name": "stdout",
     "output_type": "stream",
     "text": [
      "5831\n"
     ]
    }
   ],
   "source": [
    "print(len(train_dataset))"
   ]
  },
  {
   "cell_type": "code",
   "execution_count": 114,
   "metadata": {},
   "outputs": [],
   "source": [
    "train_x = []\n",
    "train_y = []\n",
    "for i,j in train_dataset:\n",
    "    train_x.append(i)\n",
    "    train_y.append(j)"
   ]
  },
  {
   "cell_type": "code",
   "execution_count": 115,
   "metadata": {},
   "outputs": [
    {
     "data": {
      "text/plain": [
       "LogisticRegression()"
      ]
     },
     "execution_count": 115,
     "metadata": {},
     "output_type": "execute_result"
    }
   ],
   "source": [
    "classifier = LogisticRegression()\n",
    "classifier.fit(train_x, train_y)"
   ]
  },
  {
   "cell_type": "code",
   "execution_count": 116,
   "metadata": {},
   "outputs": [],
   "source": [
    "test_review_vectors = []\n",
    "for text, tags in test_review_texts_and_tags:\n",
    "    inferred_doc_vec = model.infer_vector(text)\n",
    "#     print(f\"tags: {tags}, text: {text}\")\n",
    "#     print(f\"trained_doc_vec: {trained_doc_vec}\")\n",
    "#     print(f\"inferred_doc_vec: {inferred_doc_vec}\")\n",
    "#     print(\"--\"*20)\n",
    "    test_review_vectors.append(trained_doc_vec)"
   ]
  },
  {
   "cell_type": "code",
   "execution_count": 117,
   "metadata": {},
   "outputs": [],
   "source": [
    "test_dataset = []\n",
    "for x, y in zip(test_review_vectors, df2['ord_group'][5831:]):\n",
    "    test_dataset.append([x,y])"
   ]
  },
  {
   "cell_type": "code",
   "execution_count": 118,
   "metadata": {},
   "outputs": [],
   "source": [
    "test_x = []\n",
    "test_y = []\n",
    "for i,j in test_dataset:\n",
    "    test_x.append(i)\n",
    "    test_y.append(j)"
   ]
  },
  {
   "cell_type": "code",
   "execution_count": 119,
   "metadata": {},
   "outputs": [
    {
     "data": {
      "text/plain": [
       "0.845679012345679"
      ]
     },
     "execution_count": 119,
     "metadata": {},
     "output_type": "execute_result"
    }
   ],
   "source": [
    "classifier.score(test_x, test_y)"
   ]
  },
  {
   "cell_type": "code",
   "execution_count": null,
   "metadata": {},
   "outputs": [],
   "source": []
  }
 ],
 "metadata": {
  "kernelspec": {
   "display_name": "Python 3",
   "language": "python",
   "name": "python3"
  },
  "language_info": {
   "codemirror_mode": {
    "name": "ipython",
    "version": 3
   },
   "file_extension": ".py",
   "mimetype": "text/x-python",
   "name": "python",
   "nbconvert_exporter": "python",
   "pygments_lexer": "ipython3",
   "version": "3.8.5"
  }
 },
 "nbformat": 4,
 "nbformat_minor": 4
}
